{
  "nbformat": 4,
  "nbformat_minor": 0,
  "metadata": {
    "colab": {
      "name": "02_02_cartpole_random.ipynb",
      "provenance": [],
      "collapsed_sections": [],
      "authorship_tag": "ABX9TyOSl4MCIkf9euKheiBTZa9r",
      "include_colab_link": true
    },
    "kernelspec": {
      "name": "python3",
      "display_name": "Python 3"
    }
  },
  "cells": [
    {
      "cell_type": "markdown",
      "metadata": {
        "id": "view-in-github",
        "colab_type": "text"
      },
      "source": [
        "<a href=\"https://colab.research.google.com/github/malill/fc_forstern_website/blob/master/02_02_cartpole_random.ipynb\" target=\"_parent\"><img src=\"https://colab.research.google.com/assets/colab-badge.svg\" alt=\"Open In Colab\"/></a>"
      ]
    },
    {
      "cell_type": "markdown",
      "metadata": {
        "id": "nHIRPDi8KIwA"
      },
      "source": [
        "# Play around"
      ]
    },
    {
      "cell_type": "code",
      "metadata": {
        "id": "6CPKsSJQG0RW"
      },
      "source": [
        "import gym\r\n",
        "\r\n",
        "e = gym.make('CartPole-v0')"
      ],
      "execution_count": null,
      "outputs": []
    },
    {
      "cell_type": "code",
      "metadata": {
        "colab": {
          "base_uri": "https://localhost:8080/"
        },
        "id": "RmlcFYGDHzV6",
        "outputId": "3f139eac-e203-43e9-dc6a-ec363eb39fa0"
      },
      "source": [
        "obs = e.reset()\r\n",
        "print(obs)\r\n",
        "print(e.action_space)\r\n",
        "print(e.observation_space)"
      ],
      "execution_count": null,
      "outputs": [
        {
          "output_type": "stream",
          "text": [
            "[-0.01682212 -0.01860353  0.0111859   0.00483134]\n",
            "Discrete(2)\n",
            "Box(-3.4028234663852886e+38, 3.4028234663852886e+38, (4,), float32)\n"
          ],
          "name": "stdout"
        }
      ]
    },
    {
      "cell_type": "code",
      "metadata": {
        "colab": {
          "base_uri": "https://localhost:8080/"
        },
        "id": "Zxw1oBGKIUKD",
        "outputId": "596d17bd-112e-4d6b-9df3-d82eb32b472d"
      },
      "source": [
        "e.step(0)"
      ],
      "execution_count": null,
      "outputs": [
        {
          "output_type": "execute_result",
          "data": {
            "text/plain": [
              "(array([-0.01719419, -0.2138841 ,  0.01128253,  0.30102246]), 1.0, False, {})"
            ]
          },
          "metadata": {
            "tags": []
          },
          "execution_count": 3
        }
      ]
    },
    {
      "cell_type": "markdown",
      "metadata": {
        "id": "NXZr8gwBKQFL"
      },
      "source": [
        "# The random CartPole agent"
      ]
    },
    {
      "cell_type": "code",
      "metadata": {
        "colab": {
          "base_uri": "https://localhost:8080/"
        },
        "id": "i1PEdyKLKdsC",
        "outputId": "399012bd-653e-408e-852f-5b6c5f53050f"
      },
      "source": [
        "env = gym.make(\"CartPole-v0\")\r\n",
        "total_reward = 0.0\r\n",
        "total_steps = 0\r\n",
        "obs = env.reset() # reset environment and obtain the first observation\r\n",
        "\r\n",
        "while True:\r\n",
        "  action = env.action_space.sample()\r\n",
        "  obs, reward, done, _ = env.step(action)\r\n",
        "  total_reward += reward\r\n",
        "  total_steps += 1\r\n",
        "  if done:\r\n",
        "    break\r\n",
        "\r\n",
        "print(\"Episode is done in %d steps, total reward %.2f\" % (total_steps, total_reward))"
      ],
      "execution_count": null,
      "outputs": [
        {
          "output_type": "stream",
          "text": [
            "Episode is done in 32 steps, total reward 32.00\n"
          ],
          "name": "stdout"
        }
      ]
    },
    {
      "cell_type": "markdown",
      "metadata": {
        "id": "4zWl2WrrXFfE"
      },
      "source": [
        "# Wrapper"
      ]
    },
    {
      "cell_type": "code",
      "metadata": {
        "id": "Byz_SAZ6KsYW"
      },
      "source": [
        "from typing import TypeVar\r\n",
        "import random\r\n",
        "\r\n",
        "Action = TypeVar('Action')\r\n",
        "\r\n",
        "class RandomActionWrapper(gym.ActionWrapper):\r\n",
        "  def __init__(self, env, epsilon=0.1):\r\n",
        "    super(RandomActionWrapper, self).__init__(env)\r\n",
        "    self.epsilon = epsilon\r\n",
        "\r\n",
        "  def action(self, action: Action) -> Action:\r\n",
        "    if random.random() < self.epsilon:\r\n",
        "      print(\"Random!\")\r\n",
        "      return self.env.action_space.sample()\r\n",
        "    return action"
      ],
      "execution_count": null,
      "outputs": []
    },
    {
      "cell_type": "code",
      "metadata": {
        "colab": {
          "base_uri": "https://localhost:8080/"
        },
        "id": "-azTLYRoX2ND",
        "outputId": "92b51989-706a-48eb-abc7-a71414125a75"
      },
      "source": [
        "env = RandomActionWrapper(gym.make(\"CartPole-v0\"), epsilon=0.5)\r\n",
        "obs = env.reset()\r\n",
        "total_reward = 0.0\r\n",
        "\r\n",
        "while True:\r\n",
        "  obs, reward, done, _ = env.step(0)\r\n",
        "  total_reward += reward\r\n",
        "  if done:\r\n",
        "    break\r\n",
        "\r\n",
        "print(\"Reward got: %.2f\" % total_reward)"
      ],
      "execution_count": null,
      "outputs": [
        {
          "output_type": "stream",
          "text": [
            "Random!\n",
            "Random!\n",
            "Random!\n",
            "Random!\n",
            "Random!\n",
            "Random!\n",
            "Random!\n",
            "Random!\n",
            "Reward got: 14.00\n"
          ],
          "name": "stdout"
        }
      ]
    },
    {
      "cell_type": "markdown",
      "metadata": {
        "id": "SoTZ1cdFZO5o"
      },
      "source": [
        "# Monitor"
      ]
    },
    {
      "cell_type": "code",
      "metadata": {
        "id": "oYkbon-2YeY-"
      },
      "source": [
        "# Monitor"
      ],
      "execution_count": null,
      "outputs": []
    }
  ]
}